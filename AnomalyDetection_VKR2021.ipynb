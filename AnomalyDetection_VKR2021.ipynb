{
  "nbformat": 4,
  "nbformat_minor": 0,
  "metadata": {
    "colab": {
      "name": "AnomalyDetection_VKR2021.ipynb",
      "provenance": []
    },
    "kernelspec": {
      "display_name": "Python 3",
      "name": "python3"
    },
    "language_info": {
      "name": "python"
    }
  },
  "cells": [
    {
      "cell_type": "code",
      "metadata": {
        "id": "khKYW2LY0pql"
      },
      "source": [
        "import pandas as pd\n",
        "import numpy as np\n",
        "import matplotlib.pyplot as plt\n",
        "import seaborn as sns\n",
        "from sklearn.cluster import KMeans\n",
        "from sklearn.ensemble import IsolationForest\n",
        "from sklearn import svm\n",
        "from sklearn.svm import OneClassSVM\n",
        "import time\n",
        "from sklearn.metrics import (confusion_matrix, precision_recall_curve, auc,roc_auc_score, precision_score, roc_curve, recall_score,\\\n",
        "                             classification_report, f1_score, precision_recall_fscore_support)\n",
        "outlier_fraction = 0.001\n",
        "\n",
        "import warnings\n",
        "warnings.simplefilter('ignore')\n",
        "\n",
        "from sklearn.covariance import EllipticEnvelope"
      ],
      "execution_count": null,
      "outputs": []
    },
    {
      "cell_type": "code",
      "metadata": {
        "colab": {
          "base_uri": "https://localhost:8080/"
        },
        "id": "KTYpBq5h0xU7",
        "outputId": "8faf7cbb-4f69-47e1-a9ce-0345cf0aec54"
      },
      "source": [
        "from google.colab import drive\n",
        "drive.mount('/content/drive')"
      ],
      "execution_count": null,
      "outputs": [
        {
          "output_type": "stream",
          "text": [
            "Mounted at /content/drive\n"
          ],
          "name": "stdout"
        }
      ]
    },
    {
      "cell_type": "code",
      "metadata": {
        "id": "waLbm-mf00aY"
      },
      "source": [
        "data = pd.read_csv('/content/drive/MyDrive/ВКР/creditcard.csv')\n"
      ],
      "execution_count": null,
      "outputs": []
    },
    {
      "cell_type": "code",
      "metadata": {
        "id": "P1UbKV8j00dw"
      },
      "source": [
        "x_data = data.loc[:, 'V1' : 'V28']\n",
        "y_data = data.loc[:, 'Class']"
      ],
      "execution_count": null,
      "outputs": []
    },
    {
      "cell_type": "code",
      "metadata": {
        "colab": {
          "base_uri": "https://localhost:8080/"
        },
        "id": "12neNMHg67xD",
        "outputId": "bb2eda1e-b548-4244-af4b-48837b1d6a69"
      },
      "source": [
        "start_time_kmeans = time.time()\n",
        "\n",
        "from sklearn.cluster import KMeans\n",
        "kmeans=KMeans(n_clusters=2, random_state=0, algorithm=\"elkan\", max_iter=100, n_jobs=-1)\n",
        "\n",
        "kmeans.fit(x_data)\n",
        "y_pred_kmeans = pd.Series(kmeans.predict(x_data))\n",
        "y_pred_kmeans.replace(1,1,inplace = True)\n",
        "y_pred_kmeans.replace(-1,0,inplace = True)\n",
        "cross_table = pd.crosstab(data['Class'], columns = y_pred_kmeans)\n",
        "print(cross_table)\n",
        "print('Time used:', time.time() - start_time_kmeans)"
      ],
      "execution_count": null,
      "outputs": [
        {
          "output_type": "stream",
          "text": [
            "col_0       0       1\n",
            "Class                \n",
            "0      149747  134568\n",
            "1         358     134\n",
            "Time used: 6.661710977554321\n"
          ],
          "name": "stdout"
        }
      ]
    },
    {
      "cell_type": "code",
      "metadata": {
        "colab": {
          "base_uri": "https://localhost:8080/"
        },
        "id": "acUqRy-K94GY",
        "outputId": "62b386f6-f048-4146-c57b-40b515838c54"
      },
      "source": [
        "start_time_iso = time.time()\n",
        "\n",
        "from sklearn.ensemble import IsolationForest\n",
        "iso=IsolationForest(max_samples = len(x_data), n_estimators = 100,\n",
        "                    contamination = outlier_fraction, random_state = 1)\n",
        "iso.fit(x_data)\n",
        "y_pred_iso = pd.Series(iso.predict(x_data))\n",
        "y_pred_iso.replace(-1,0,inplace = True)\n",
        "y_pred_iso.replace(1,1,inplace = True)\n",
        "cross_table = pd.crosstab(data['Class'], columns = y_pred_iso)\n",
        "print(cross_table)\n",
        "print('Time used:', time.time() - start_time_iso)"
      ],
      "execution_count": null,
      "outputs": [
        {
          "output_type": "stream",
          "text": [
            "col_0    0       1\n",
            "Class             \n",
            "0      171  284144\n",
            "1      114     378\n",
            "Time used: 41.68232750892639\n"
          ],
          "name": "stdout"
        }
      ]
    },
    {
      "cell_type": "code",
      "metadata": {
        "colab": {
          "base_uri": "https://localhost:8080/"
        },
        "id": "kB2ROqXLHFyA",
        "outputId": "3d212715-a888-44b3-ec28-96ae27afbca3"
      },
      "source": [
        "from sklearn import svm\n",
        "from sklearn.svm import OneClassSVM\n",
        "\n",
        "start_time_ocsvm = time.time()\n",
        "\n",
        "ocsvm = svm.OneClassSVM(kernel='sigmoid', gamma='auto', nu = outlier_fraction)\n",
        "ocsvm.fit(x_data)\n",
        "y_pred_ocsvm = pd.Series(ocsvm.predict(x_data))\n",
        "y_pred_ocsvm.replace(-1,0,inplace = True)\n",
        "y_pred_ocsvm.replace(1,1,inplace = True)\n",
        "cross_table = pd.crosstab(data['Class'], columns = y_pred_ocsvm)\n",
        "print(cross_table)\n",
        "print('Time used:', time.time() - start_time_ocsvm)"
      ],
      "execution_count": null,
      "outputs": [
        {
          "output_type": "stream",
          "text": [
            "col_0    0       1\n",
            "Class             \n",
            "0      259  284056\n",
            "1       27     465\n",
            "Time used: 32.245752573013306\n"
          ],
          "name": "stdout"
        }
      ]
    },
    {
      "cell_type": "code",
      "metadata": {
        "colab": {
          "base_uri": "https://localhost:8080/"
        },
        "id": "-qE0trff6RL3",
        "outputId": "7e9c52c8-e134-48e1-85b2-236d59ff6edb"
      },
      "source": [
        "import time\n",
        "import warnings\n",
        "warnings.simplefilter('ignore')\n",
        "\n",
        "from sklearn.covariance import EllipticEnvelope\n",
        "start_time_ee = time.time()\n",
        "\n",
        "ellipenv = EllipticEnvelope(contamination = outlier_fraction, \n",
        "                          random_state=1)\n",
        "y_pred_el = pd.Series(ellipenv.fit_predict(x_data))\n",
        "y_pred_el.replace(-1,0,inplace = True)\n",
        "y_pred_el.replace(1,1,inplace = True)\n",
        "cross_table = pd.crosstab(data['Class'], columns = y_pred_el)\n",
        "print(cross_table)\n",
        "print('Time used:', time.time() - start_time_ee)"
      ],
      "execution_count": null,
      "outputs": [
        {
          "output_type": "stream",
          "text": [
            "col_0    0       1\n",
            "Class             \n",
            "0      275  284040\n",
            "1       10     482\n",
            "Time used: 185.8741672039032\n"
          ],
          "name": "stdout"
        }
      ]
    },
    {
      "cell_type": "code",
      "metadata": {
        "colab": {
          "base_uri": "https://localhost:8080/"
        },
        "id": "C-6wmYKY6tAV",
        "outputId": "ad6fd400-b816-4c18-e017-18c4e5431082"
      },
      "source": [
        "from sklearn.neighbors import LocalOutlierFactor\n",
        "start_time_lof = time.time()\n",
        "\n",
        "lof = LocalOutlierFactor(n_neighbors=2, metric='minkowski', contamination = outlier_fraction)\n",
        "\n",
        "y_pred_lof = pd.Series(lof.fit_predict(x_data))\n",
        "y_pred_lof.replace(-1,0,inplace = True)\n",
        "y_pred_lof.replace(1,1,inplace = True)\n",
        "cross_table = pd.crosstab(data['Class'], columns = y_pred_lof)\n",
        "print(cross_table)\n",
        "print('Time used:', time.time() - start_time_lof)\n"
      ],
      "execution_count": null,
      "outputs": [
        {
          "output_type": "stream",
          "text": [
            "col_0    0       1\n",
            "Class             \n",
            "0      284  284031\n",
            "1        1     491\n",
            "Time used: 553.5959331989288\n"
          ],
          "name": "stdout"
        }
      ]
    },
    {
      "cell_type": "code",
      "metadata": {
        "id": "8oLBXpfcDLPq"
      },
      "source": [
        ""
      ],
      "execution_count": null,
      "outputs": []
    },
    {
      "cell_type": "code",
      "metadata": {
        "id": "7niDibHVExMV"
      },
      "source": [
        "two_score = pd.DataFrame([y_pred_kmeans, y_pred_iso, y_pred_ocsvm, y_pred_el,y_pred_lof]).T\n",
        "data['Anomaly'] = two_score.apply(lambda x: x.mode(), axis = 1)\n"
      ],
      "execution_count": null,
      "outputs": []
    },
    {
      "cell_type": "code",
      "metadata": {
        "colab": {
          "base_uri": "https://localhost:8080/",
          "height": 220
        },
        "id": "6ZgylKc4DBAN",
        "outputId": "d88179a1-d437-4a34-f12c-d55da5049a95"
      },
      "source": [
        "label = {\n",
        "    (0,0):0,\n",
        "    (1,1):1,\n",
        "    (0,1):1,\n",
        "    (1,0):0\n",
        "}\n",
        "data['Class_Anomaly'] = data[['Class','Anomaly']].apply(lambda x:label[(x[1],x[0])], axis = 1)\n",
        "\n",
        "data = data.drop(['Class','Anomaly'], axis = 1)\n",
        "\n",
        "data.to_csv('/content/drive/MyDrive/ВКР/DatasetAnomaly.csv')\n",
        "\n",
        "anomalycredits = pd.read_csv('/content/drive/MyDrive/ВКР/DatasetAnomaly.csv')\n",
        "look_to_anomaly = anomalycredits.loc[:, 'V27' : 'Class_Anomaly']\n",
        "\n",
        "fraudulent = anomalycredits[anomalycredits['Class_Anomaly']==1]\n",
        "print(f'мошеннические{fraudulent.shape}')\n",
        "look_to_anomaly.head()"
      ],
      "execution_count": null,
      "outputs": [
        {
          "output_type": "stream",
          "text": [
            "мошеннические(492, 32)\n"
          ],
          "name": "stdout"
        },
        {
          "output_type": "execute_result",
          "data": {
            "text/html": [
              "<div>\n",
              "<style scoped>\n",
              "    .dataframe tbody tr th:only-of-type {\n",
              "        vertical-align: middle;\n",
              "    }\n",
              "\n",
              "    .dataframe tbody tr th {\n",
              "        vertical-align: top;\n",
              "    }\n",
              "\n",
              "    .dataframe thead th {\n",
              "        text-align: right;\n",
              "    }\n",
              "</style>\n",
              "<table border=\"1\" class=\"dataframe\">\n",
              "  <thead>\n",
              "    <tr style=\"text-align: right;\">\n",
              "      <th></th>\n",
              "      <th>V27</th>\n",
              "      <th>V28</th>\n",
              "      <th>Amount</th>\n",
              "      <th>Class_Anomaly</th>\n",
              "    </tr>\n",
              "  </thead>\n",
              "  <tbody>\n",
              "    <tr>\n",
              "      <th>0</th>\n",
              "      <td>0.133558</td>\n",
              "      <td>-0.021053</td>\n",
              "      <td>149.62</td>\n",
              "      <td>0</td>\n",
              "    </tr>\n",
              "    <tr>\n",
              "      <th>1</th>\n",
              "      <td>-0.008983</td>\n",
              "      <td>0.014724</td>\n",
              "      <td>2.69</td>\n",
              "      <td>0</td>\n",
              "    </tr>\n",
              "    <tr>\n",
              "      <th>2</th>\n",
              "      <td>-0.055353</td>\n",
              "      <td>-0.059752</td>\n",
              "      <td>378.66</td>\n",
              "      <td>0</td>\n",
              "    </tr>\n",
              "    <tr>\n",
              "      <th>3</th>\n",
              "      <td>0.062723</td>\n",
              "      <td>0.061458</td>\n",
              "      <td>123.50</td>\n",
              "      <td>0</td>\n",
              "    </tr>\n",
              "    <tr>\n",
              "      <th>4</th>\n",
              "      <td>0.219422</td>\n",
              "      <td>0.215153</td>\n",
              "      <td>69.99</td>\n",
              "      <td>0</td>\n",
              "    </tr>\n",
              "  </tbody>\n",
              "</table>\n",
              "</div>"
            ],
            "text/plain": [
              "        V27       V28  Amount  Class_Anomaly\n",
              "0  0.133558 -0.021053  149.62              0\n",
              "1 -0.008983  0.014724    2.69              0\n",
              "2 -0.055353 -0.059752  378.66              0\n",
              "3  0.062723  0.061458  123.50              0\n",
              "4  0.219422  0.215153   69.99              0"
            ]
          },
          "metadata": {
            "tags": []
          },
          "execution_count": 46
        }
      ]
    },
    {
      "cell_type": "code",
      "metadata": {
        "id": "J-EfWthJIzLd"
      },
      "source": [
        "from sklearn.model_selection import StratifiedShuffleSplit\n",
        "from imblearn.over_sampling import RandomOverSampler, SMOTE\n",
        "from imblearn.combine import SMOTETomek\n",
        "from sklearn.tree import DecisionTreeClassifier\n",
        "from sklearn.model_selection import GridSearchCV"
      ],
      "execution_count": null,
      "outputs": []
    },
    {
      "cell_type": "code",
      "metadata": {
        "colab": {
          "base_uri": "https://localhost:8080/"
        },
        "id": "TATzca-jIk0p",
        "outputId": "85edf6ef-80ac-40ca-b5ad-b3700a8b96f1"
      },
      "source": [
        "\n",
        "X = np.array(anomalycredits.loc[:,:'V28'])\n",
        "y = np.array(anomalycredits['Class_Anomaly'])\n",
        "sess = StratifiedShuffleSplit(n_splits = 5,test_size=0.4,random_state=0)\n",
        "for train_index,test_index in sess.split(X,y):\n",
        "    X_train,X_test = X[train_index], X[test_index]\n",
        "    y_train,y_test = y[train_index], y[test_index]\n",
        "print('train_size: %s' %len(y_train),\n",
        "     'test_size: %s' %len(y_test))"
      ],
      "execution_count": null,
      "outputs": [
        {
          "output_type": "stream",
          "text": [
            "train_size: 170884 test_size: 113923\n"
          ],
          "name": "stdout"
        }
      ]
    },
    {
      "cell_type": "code",
      "metadata": {
        "colab": {
          "base_uri": "https://localhost:8080/"
        },
        "id": "ptLf17SaI2D9",
        "outputId": "d2e07f42-3768-44cb-8716-9e4098032bb9"
      },
      "source": [
        "ros = RandomOverSampler(random_state = 0)\n",
        "sos = SMOTE(random_state=0)\n",
        "kos = SMOTETomek(random_state=0)\n",
        "\n",
        "x_ros, y_ros = ros.fit_sample(X_train, y_train)\n",
        "x_sos, y_sos = sos.fit_sample(X_train, y_train)\n",
        "x_kos, y_kos = kos.fit_sample(X_train, y_train)\n",
        "print('ros: {}, sos: {}, kos:{}'.format(len(y_ros),len(y_sos),len(y_kos)))"
      ],
      "execution_count": null,
      "outputs": [
        {
          "output_type": "stream",
          "text": [
            "ros: 341178, sos: 341178, kos:340834\n"
          ],
          "name": "stdout"
        }
      ]
    },
    {
      "cell_type": "code",
      "metadata": {
        "colab": {
          "base_uri": "https://localhost:8080/"
        },
        "id": "7-mY_wXx_aT8",
        "outputId": "e16ff3c4-a980-435a-bd70-3b763664a6e7"
      },
      "source": [
        "from sklearn.ensemble import AdaBoostClassifier\n",
        "from sklearn.metrics import accuracy_score, log_loss\n",
        "\n",
        "clf = DecisionTreeClassifier(criterion = 'gini', random_state=1234)\n",
        "abc =AdaBoostClassifier(n_estimators=50, base_estimator=clf,learning_rate=1)\n",
        "\n",
        "data_samp = [[X_train, y_train],\n",
        "                 [x_ros, y_ros],\n",
        "                 [x_sos, y_sos],\n",
        "                 [x_kos, y_kos]]\n",
        "\n",
        "for features, labels in data_samp:\n",
        "    start_time = time.time()\n",
        "    abc.fit(features, labels)\n",
        "    predict_test = abc.predict(X_test)\n",
        "    \n",
        "    print('auc:{:.3f}'.format(roc_auc_score(y_test, predict_test)),\n",
        "          'accuracy:{:.3f}'.format(accuracy_score(y_test, predict_test)),\n",
        "          'recall:{:.3f}'.format(recall_score(y_test, predict_test)),\n",
        "          'precision:{:.3f}'.format(precision_score(y_test, predict_test)),\n",
        "          'Logloss:{:.3f}'.format(log_loss(y_test, predict_test)),\n",
        "          'Time:{:.3f}'.format(time.time() - start_time))"
      ],
      "execution_count": null,
      "outputs": [
        {
          "output_type": "stream",
          "text": [
            "auc:0.868 accuracy:0.999 recall:0.736 precision:0.747 Logloss:0.031 Time:17.436\n",
            "auc:0.883 accuracy:0.999 recall:0.766 precision:0.729 Logloss:0.031 Time:15.023\n",
            "auc:0.900 accuracy:0.998 recall:0.802 precision:0.416 Logloss:0.079 Time:44.241\n",
            "auc:0.900 accuracy:0.998 recall:0.802 precision:0.397 Logloss:0.085 Time:43.614\n"
          ],
          "name": "stdout"
        }
      ]
    },
    {
      "cell_type": "code",
      "metadata": {
        "id": "dkg-P35H_hfr"
      },
      "source": [
        ""
      ],
      "execution_count": null,
      "outputs": []
    }
  ]
}